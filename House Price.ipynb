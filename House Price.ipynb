{
 "cells": [
  {
   "cell_type": "code",
   "execution_count": 1,
   "metadata": {},
   "outputs": [],
   "source": [
    "import pandas as pd\n",
    "data = pd.read_csv('house_price.csv')\n",
    "\n",
    "#Drop columns contains nan\n",
    "data = data.dropna()"
   ]
  },
  {
   "cell_type": "code",
   "execution_count": 2,
   "metadata": {
    "scrolled": true
   },
   "outputs": [],
   "source": [
    "#Clean \"Price\" Column\n",
    "#1. Formatting\n",
    "#2. Estimate the house price if it is rented.\n",
    "#3. Remove outliers\n",
    "\n",
    "\n",
    "rent_hitlist_w = data['Price'].str.contains('[Ww]')#Get the hit list of rent by week\n",
    "rent_hitlist_m = data['Price'].str.contains('[Mm]')#Get the hit list of rent by month\n",
    "\n",
    "#Clean the symbols and change the data type. \n",
    "data['Price']= data['Price'].replace({'[A-Za-z£\\$,]':''},regex=True).astype(float) \n",
    "\n",
    "#Estimated house price by using PRR\n",
    "#REF1: https://www.statista.com/statistics/592108/house-price-to-rent-ratio-uk/\n",
    "#REF2: https://www.investopedia.com/terms/p/price-to-rent-ratio.asp\n",
    "WEEKS_IN_YEAR = 52.14 #Total numer of weeks in a year\n",
    "MONTH_IN_YEAR = 12\n",
    "PRR = 112.7 #Price-to-Rent Ratio \n",
    "# Replace the value based on the hit list\n",
    "data.loc[rent_hitlist_w,'Price']=data.loc[rent_hitlist_w,'Price']*WEEKS_IN_YEAR*PRR\n",
    "data.loc[rent_hitlist_m,'Price']=data.loc[rent_hitlist_m,'Price']*MONTH_IN_YEAR*PRR\n",
    "\n",
    "#Remove outliers\n",
    "hitlist = data['Price'].between(1.0e+4,1.0e+6,inclusive=True) #Only check house price between 10,000 and 1,000,000\n",
    "data = data[hitlist]"
   ]
  },
  {
   "cell_type": "code",
   "execution_count": 3,
   "metadata": {},
   "outputs": [],
   "source": [
    "#Clean the \"Size(Sq M)\" Column\n",
    "#1. Remove not numeric values\n",
    "#2. Formatting\n",
    "#3. Remove outliers\n",
    "\n",
    "hitlist=data['Size(Sq M)'].str.contains('[A-Za-z]')#find not numeric value and use logic NOT to build the hitlist\n",
    "data = data[~hitlist] #Remove not numeric values\n",
    "data['Size(Sq M)'] = data['Size(Sq M)'].astype(float)\n",
    "\n",
    "#Remove outliers\n",
    "hitlist = data['Size(Sq M)'].between(30.0,300.0,inclusive=True) #Only check house size between 30 and 300 Sq M\n",
    "data = data[hitlist]"
   ]
  },
  {
   "cell_type": "code",
   "execution_count": 4,
   "metadata": {},
   "outputs": [],
   "source": [
    "#Clean the \"Postcode\" Column\n",
    "\n",
    "#All Caps\n",
    "data['Postcode'] = data['Postcode'].str.upper()\n",
    "#Remove last 3 characters to get the region code\n",
    "data['Postcode'] = data['Postcode'].replace({'\\s+':''},regex=True).str.slice(0,-3)"
   ]
  },
  {
   "cell_type": "code",
   "execution_count": 5,
   "metadata": {},
   "outputs": [],
   "source": [
    "#Clean the \"House Type\" Column\n",
    "\n",
    "#All Caps\n",
    "data['House type'] = data['House type'].str.upper()\n",
    "\n",
    "#Mapping to \"HOUSE\", and \"FLAT\" only\n",
    "\n",
    "#Any type with semi detached and detached are labeled as house\n",
    "data['House type'] = data['House type'].replace(to_replace='(.*)DE(.*)',value='HOUSE',regex=True)\n",
    "#Any type with Terraced are labeled as house\n",
    "data['House type'] = data['House type'].replace(to_replace='(.*)TE(.*)',value='HOUSE',regex=True) \n",
    "#Bungalows are labeled as flat\n",
    "data['House type'] = data['House type'].replace(to_replace='BUNGALOW',value='FLAT',regex=True)\n",
    "#Any type of Apartment are labeled as flat\n",
    "data['House type'] = data['House type'].replace(to_replace='(.*)AP(.*)',value='FLAT',regex=True)"
   ]
  },
  {
   "cell_type": "code",
   "execution_count": 6,
   "metadata": {},
   "outputs": [
    {
     "data": {
      "text/html": [
       "<div>\n",
       "<style scoped>\n",
       "    .dataframe tbody tr th:only-of-type {\n",
       "        vertical-align: middle;\n",
       "    }\n",
       "\n",
       "    .dataframe tbody tr th {\n",
       "        vertical-align: top;\n",
       "    }\n",
       "\n",
       "    .dataframe thead th {\n",
       "        text-align: right;\n",
       "    }\n",
       "</style>\n",
       "<table border=\"1\" class=\"dataframe\">\n",
       "  <thead>\n",
       "    <tr style=\"text-align: right;\">\n",
       "      <th></th>\n",
       "      <th>Number of Bedrooms</th>\n",
       "      <th>House type</th>\n",
       "      <th>Postcode</th>\n",
       "      <th>Size(Sq M)</th>\n",
       "      <th>Price</th>\n",
       "    </tr>\n",
       "  </thead>\n",
       "  <tbody>\n",
       "    <tr>\n",
       "      <th>0</th>\n",
       "      <td>5.0</td>\n",
       "      <td>HOUSE</td>\n",
       "      <td>S8</td>\n",
       "      <td>70.0</td>\n",
       "      <td>867000.000</td>\n",
       "    </tr>\n",
       "    <tr>\n",
       "      <th>1</th>\n",
       "      <td>3.0</td>\n",
       "      <td>FLAT</td>\n",
       "      <td>S2</td>\n",
       "      <td>50.0</td>\n",
       "      <td>554484.000</td>\n",
       "    </tr>\n",
       "    <tr>\n",
       "      <th>5</th>\n",
       "      <td>1.0</td>\n",
       "      <td>FLAT</td>\n",
       "      <td>S1</td>\n",
       "      <td>43.0</td>\n",
       "      <td>608580.000</td>\n",
       "    </tr>\n",
       "    <tr>\n",
       "      <th>8</th>\n",
       "      <td>1.0</td>\n",
       "      <td>FLAT</td>\n",
       "      <td>S1</td>\n",
       "      <td>43.0</td>\n",
       "      <td>676200.000</td>\n",
       "    </tr>\n",
       "    <tr>\n",
       "      <th>12</th>\n",
       "      <td>5.0</td>\n",
       "      <td>FLAT</td>\n",
       "      <td>S11</td>\n",
       "      <td>140.0</td>\n",
       "      <td>522979.842</td>\n",
       "    </tr>\n",
       "    <tr>\n",
       "      <th>14</th>\n",
       "      <td>3.0</td>\n",
       "      <td>HOUSE</td>\n",
       "      <td>DE7</td>\n",
       "      <td>134.0</td>\n",
       "      <td>155000.000</td>\n",
       "    </tr>\n",
       "    <tr>\n",
       "      <th>18</th>\n",
       "      <td>4.0</td>\n",
       "      <td>HOUSE</td>\n",
       "      <td>17</td>\n",
       "      <td>30.0</td>\n",
       "      <td>327500.000</td>\n",
       "    </tr>\n",
       "    <tr>\n",
       "      <th>19</th>\n",
       "      <td>4.0</td>\n",
       "      <td>HOUSE</td>\n",
       "      <td>S2</td>\n",
       "      <td>140.0</td>\n",
       "      <td>173000.000</td>\n",
       "    </tr>\n",
       "    <tr>\n",
       "      <th>21</th>\n",
       "      <td>4.0</td>\n",
       "      <td>HOUSE</td>\n",
       "      <td>S10</td>\n",
       "      <td>158.0</td>\n",
       "      <td>300000.000</td>\n",
       "    </tr>\n",
       "    <tr>\n",
       "      <th>23</th>\n",
       "      <td>3.0</td>\n",
       "      <td>HOUSE</td>\n",
       "      <td>S6</td>\n",
       "      <td>165.0</td>\n",
       "      <td>100000.000</td>\n",
       "    </tr>\n",
       "    <tr>\n",
       "      <th>24</th>\n",
       "      <td>4.0</td>\n",
       "      <td>HOUSE</td>\n",
       "      <td>S8</td>\n",
       "      <td>200.0</td>\n",
       "      <td>110000.000</td>\n",
       "    </tr>\n",
       "    <tr>\n",
       "      <th>25</th>\n",
       "      <td>1.0</td>\n",
       "      <td>FLAT</td>\n",
       "      <td>S11</td>\n",
       "      <td>40.0</td>\n",
       "      <td>40000.000</td>\n",
       "    </tr>\n",
       "    <tr>\n",
       "      <th>26</th>\n",
       "      <td>4.0</td>\n",
       "      <td>HOUSE</td>\n",
       "      <td>S6</td>\n",
       "      <td>130.0</td>\n",
       "      <td>365000.000</td>\n",
       "    </tr>\n",
       "    <tr>\n",
       "      <th>30</th>\n",
       "      <td>5.0</td>\n",
       "      <td>FLAT</td>\n",
       "      <td>S1</td>\n",
       "      <td>75.0</td>\n",
       "      <td>85000.000</td>\n",
       "    </tr>\n",
       "    <tr>\n",
       "      <th>32</th>\n",
       "      <td>3.0</td>\n",
       "      <td>HOUSE</td>\n",
       "      <td>S10</td>\n",
       "      <td>30.0</td>\n",
       "      <td>380000.000</td>\n",
       "    </tr>\n",
       "    <tr>\n",
       "      <th>34</th>\n",
       "      <td>3.0</td>\n",
       "      <td>HOUSE</td>\n",
       "      <td>NG34</td>\n",
       "      <td>79.2</td>\n",
       "      <td>175000.000</td>\n",
       "    </tr>\n",
       "    <tr>\n",
       "      <th>35</th>\n",
       "      <td>2.0</td>\n",
       "      <td>HOUSE</td>\n",
       "      <td>S35</td>\n",
       "      <td>106.0</td>\n",
       "      <td>125000.000</td>\n",
       "    </tr>\n",
       "    <tr>\n",
       "      <th>40</th>\n",
       "      <td>1.0</td>\n",
       "      <td>FLAT</td>\n",
       "      <td>YO1</td>\n",
       "      <td>51.0</td>\n",
       "      <td>200000.000</td>\n",
       "    </tr>\n",
       "    <tr>\n",
       "      <th>42</th>\n",
       "      <td>3.0</td>\n",
       "      <td>HOUSE</td>\n",
       "      <td>S1</td>\n",
       "      <td>150.0</td>\n",
       "      <td>528856.020</td>\n",
       "    </tr>\n",
       "    <tr>\n",
       "      <th>44</th>\n",
       "      <td>4.0</td>\n",
       "      <td>HOUSE</td>\n",
       "      <td>SK7</td>\n",
       "      <td>250.0</td>\n",
       "      <td>480000.000</td>\n",
       "    </tr>\n",
       "    <tr>\n",
       "      <th>47</th>\n",
       "      <td>8.0</td>\n",
       "      <td>FLAT</td>\n",
       "      <td>S1</td>\n",
       "      <td>200.0</td>\n",
       "      <td>646379.580</td>\n",
       "    </tr>\n",
       "    <tr>\n",
       "      <th>52</th>\n",
       "      <td>2.0</td>\n",
       "      <td>FLAT</td>\n",
       "      <td>WF4</td>\n",
       "      <td>30.0</td>\n",
       "      <td>475000.000</td>\n",
       "    </tr>\n",
       "    <tr>\n",
       "      <th>53</th>\n",
       "      <td>8.0</td>\n",
       "      <td>HOUSE</td>\n",
       "      <td>S10</td>\n",
       "      <td>160.0</td>\n",
       "      <td>360000.000</td>\n",
       "    </tr>\n",
       "    <tr>\n",
       "      <th>54</th>\n",
       "      <td>6.0</td>\n",
       "      <td>HOUSE</td>\n",
       "      <td>S11</td>\n",
       "      <td>150.0</td>\n",
       "      <td>300000.000</td>\n",
       "    </tr>\n",
       "  </tbody>\n",
       "</table>\n",
       "</div>"
      ],
      "text/plain": [
       "    Number of Bedrooms House type Postcode  Size(Sq M)       Price\n",
       "0                  5.0      HOUSE       S8        70.0  867000.000\n",
       "1                  3.0       FLAT       S2        50.0  554484.000\n",
       "5                  1.0       FLAT       S1        43.0  608580.000\n",
       "8                  1.0       FLAT       S1        43.0  676200.000\n",
       "12                 5.0       FLAT      S11       140.0  522979.842\n",
       "14                 3.0      HOUSE      DE7       134.0  155000.000\n",
       "18                 4.0      HOUSE       17        30.0  327500.000\n",
       "19                 4.0      HOUSE       S2       140.0  173000.000\n",
       "21                 4.0      HOUSE      S10       158.0  300000.000\n",
       "23                 3.0      HOUSE       S6       165.0  100000.000\n",
       "24                 4.0      HOUSE       S8       200.0  110000.000\n",
       "25                 1.0       FLAT      S11        40.0   40000.000\n",
       "26                 4.0      HOUSE       S6       130.0  365000.000\n",
       "30                 5.0       FLAT       S1        75.0   85000.000\n",
       "32                 3.0      HOUSE      S10        30.0  380000.000\n",
       "34                 3.0      HOUSE     NG34        79.2  175000.000\n",
       "35                 2.0      HOUSE      S35       106.0  125000.000\n",
       "40                 1.0       FLAT      YO1        51.0  200000.000\n",
       "42                 3.0      HOUSE       S1       150.0  528856.020\n",
       "44                 4.0      HOUSE      SK7       250.0  480000.000\n",
       "47                 8.0       FLAT       S1       200.0  646379.580\n",
       "52                 2.0       FLAT      WF4        30.0  475000.000\n",
       "53                 8.0      HOUSE      S10       160.0  360000.000\n",
       "54                 6.0      HOUSE      S11       150.0  300000.000"
      ]
     },
     "execution_count": 6,
     "metadata": {},
     "output_type": "execute_result"
    }
   ],
   "source": [
    "data"
   ]
  },
  {
   "cell_type": "code",
   "execution_count": 12,
   "metadata": {},
   "outputs": [],
   "source": [
    "from sklearn.model_selection import train_test_split\n",
    "\n",
    "proper_data = data[['Number of Bedrooms', 'House type', 'Postcode', 'Size(Sq M)']]\n",
    "\n",
    "X = proper_data\n",
    "y = data['Price']\n",
    "\n",
    "X_train, X_test, y_train, y_test = train_test_split(X,y)"
   ]
  },
  {
   "cell_type": "code",
   "execution_count": 26,
   "metadata": {},
   "outputs": [
    {
     "data": {
      "image/png": "[encoded data removed]",
      "text/plain": [
       "<Figure size 504x1440 with 4 Axes>"
      ]
     },
     "metadata": {
      "needs_background": "light"
     },
     "output_type": "display_data"
    }
   ],
   "source": [
    "from matplotlib import pyplot as plt\n",
    "\n",
    "fig, ax_arr = plt.subplots(nrows=4, ncols=1, sharex=False, sharey=False)\n",
    "fig.set_figwidth(7)\n",
    "fig.set_figheight(20)\n",
    "fig.suptitle(\"Input & Outputs analysis\", fontsize=14)\n",
    "\n",
    "for j in range(4):\n",
    "        col_name = X_train.columns[j]\n",
    "        ax_arr[j].scatter(X_train[col_name], y_train)\n",
    "        ax_arr[j].set_title(col_name+\" VS Target Price\", fontsize=15)"
   ]
  },
  {
   "cell_type": "code",
   "execution_count": 27,
   "metadata": {},
   "outputs": [
    {
     "data": {
      "text/plain": [
       "LinearRegression()"
      ]
     },
     "execution_count": 27,
     "metadata": {},
     "output_type": "execute_result"
    }
   ],
   "source": [
    "X_train_SIZE = X_train[['Size(Sq M)']]\n",
    "X_test_SIZE = X_test[['Size(Sq M)']]\n",
    "\n",
    "from sklearn.linear_model import LinearRegression\n",
    "model = LinearRegression()\n",
    "model.fit(X_train_SIZE, y_train)"
   ]
  },
  {
   "cell_type": "code",
   "execution_count": 28,
   "metadata": {},
   "outputs": [
    {
     "data": {
      "text/plain": [
       "count         6.000000\n",
       "mean     120211.841090\n",
       "std      199317.780675\n",
       "min     -203791.761726\n",
       "25%       57461.447851\n",
       "50%      127735.850668\n",
       "75%      220044.617781\n",
       "max      384740.253202\n",
       "Name: Price, dtype: float64"
      ]
     },
     "execution_count": 28,
     "metadata": {},
     "output_type": "execute_result"
    }
   ],
   "source": [
    "y_predict = model.predict(X_test_SIZE)\n",
    "error = y_test - y_predict\n",
    "error.describe()"
   ]
  },
  {
   "cell_type": "code",
   "execution_count": 30,
   "metadata": {},
   "outputs": [
    {
     "data": {
      "text/plain": [
       "<matplotlib.collections.PathCollection at 0x1ab1a59b280>"
      ]
     },
     "execution_count": 30,
     "metadata": {},
     "output_type": "execute_result"
    },
    {
     "data": {
      "image/png": "[encoded data removed]",
      "text/plain": [
       "<Figure size 432x288 with 1 Axes>"
      ]
     },
     "metadata": {
      "needs_background": "light"
     },
     "output_type": "display_data"
    }
   ],
   "source": [
    "plt.scatter(X_test_SIZE, y_test)\n",
    "plt.scatter(X_test_SIZE, y_predict)"
   ]
  },
  {
   "cell_type": "code",
   "execution_count": null,
   "metadata": {},
   "outputs": [],
   "source": []
  }
 ],
 "metadata": {
  "kernelspec": {
   "display_name": "Python 3",
   "language": "python",
   "name": "python3"
  },
  "language_info": {
   "codemirror_mode": {
    "name": "ipython",
    "version": 3
   },
   "file_extension": ".py",
   "mimetype": "text/x-python",
   "name": "python",
   "nbconvert_exporter": "python",
   "pygments_lexer": "ipython3",
   "version": "3.8.5"
  }
 },
 "nbformat": 4,
 "nbformat_minor": 4
}
